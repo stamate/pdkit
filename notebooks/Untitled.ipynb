{
 "cells": [
  {
   "cell_type": "code",
   "execution_count": 61,
   "metadata": {},
   "outputs": [],
   "source": [
    "import pandas as pd\n",
    "from sklearn.preprocessing import StandardScaler\n",
    "%matplotlib inline\n",
    "import matplotlib.pyplot as plt\n",
    "import seaborn as sns\n",
    "sns.set()"
   ]
  },
  {
   "cell_type": "code",
   "execution_count": 54,
   "metadata": {},
   "outputs": [],
   "source": [
    "train = pd.read_csv('/src/data/pdkit/pd_sound/speech_multiple/train_data.txt', header=None)\n",
    "\n",
    "tr_x = train.iloc[:, 1:-2].values\n",
    "tr_y = train.iloc[:, -1].values\n",
    "\n",
    "test = pd.read_csv('/src/data/pdkit/pd_sound/speech_multiple/test_data.txt', header=None)\n",
    "\n",
    "ts_x = test.iloc[:, 1:-1].values\n",
    "ts_y = test.iloc[:, -1].values"
   ]
  },
  {
   "cell_type": "code",
   "execution_count": 55,
   "metadata": {},
   "outputs": [
    {
     "data": {
      "text/plain": [
       "StandardScaler(copy=True, with_mean=True, with_std=True)"
      ]
     },
     "execution_count": 55,
     "metadata": {},
     "output_type": "execute_result"
    }
   ],
   "source": [
    "sc = StandardScaler()\n",
    "sc.fit(tr_x)\n",
    "\n",
    "tr_x_s = sc.transform(tr_x)\n",
    "ts_x_s = sc.transform(ts_x)"
   ]
  },
  {
   "cell_type": "code",
   "execution_count": 56,
   "metadata": {},
   "outputs": [],
   "source": []
  },
  {
   "cell_type": "code",
   "execution_count": 91,
   "metadata": {},
   "outputs": [],
   "source": [
    "from sklearn.linear_model import LogisticRegression\n",
    "from sklearn.ensemble import RandomForestClassifier\n",
    "from sklearn.svm import SVC\n",
    "from sklearn.neural_network import MLPClassifier"
   ]
  },
  {
   "cell_type": "code",
   "execution_count": 101,
   "metadata": {},
   "outputs": [],
   "source": [
    "rs = 123\n",
    "\n",
    "lr = LogisticRegression(random_state=rs)\n",
    "rf = RandomForestClassifier(n_estimators=50, min_samples_split=10, min_samples_leaf=6, random_state=rs)\n",
    "svc = SVC(random_state=rs, kernel='poly', C=0.5)\n",
    "# mlp = MLPClassifier(hidden_layer_sizes=[100, 100, 100], batch_size=1, max_iter=500, random_state=rs)"
   ]
  },
  {
   "cell_type": "code",
   "execution_count": 102,
   "metadata": {},
   "outputs": [
    {
     "name": "stdout",
     "output_type": "stream",
     "text": [
      "LogisticRegression TR: 0.65 TS: 0.07738095238095238\n",
      "RandomForestClassifier TR: 0.9432692307692307 TS: 0.5476190476190477\n",
      "SVC TR: 0.6730769230769231 TS: 0.7440476190476191\n"
     ]
    }
   ],
   "source": [
    "for c in [lr, rf, svc]:\n",
    "\n",
    "    c.fit(tr_x_s, tr_y)\n",
    "    print(c.__class__.__name__, 'TR:',c.score(tr_x_s, tr_y), 'TS:', c.score(ts_x_s, ts_y))"
   ]
  },
  {
   "cell_type": "code",
   "execution_count": 75,
   "metadata": {},
   "outputs": [
    {
     "data": {
      "text/plain": [
       "0.25595238095238093"
      ]
     },
     "execution_count": 75,
     "metadata": {},
     "output_type": "execute_result"
    }
   ],
   "source": [
    "c.score(ts_x_s, ts_y)"
   ]
  },
  {
   "cell_type": "code",
   "execution_count": 104,
   "metadata": {},
   "outputs": [],
   "source": [
    "import sys\n",
    "sys.path.append('../pdkit')"
   ]
  },
  {
   "cell_type": "code",
   "execution_count": 105,
   "metadata": {},
   "outputs": [
    {
     "ename": "ImportError",
     "evalue": "cannot import name 'SIMPLE'",
     "output_type": "error",
     "traceback": [
      "\u001b[0;31m---------------------------------------------------------------------------\u001b[0m",
      "\u001b[0;31mImportError\u001b[0m                               Traceback (most recent call last)",
      "\u001b[0;32m<ipython-input-105-8bbbac4d918f>\u001b[0m in \u001b[0;36m<module>\u001b[0;34m\u001b[0m\n\u001b[0;32m----> 1\u001b[0;31m \u001b[0;32mfrom\u001b[0m \u001b[0mmodels\u001b[0m \u001b[0;32mimport\u001b[0m \u001b[0mSIMPLE\u001b[0m\u001b[0;34m\u001b[0m\u001b[0m\n\u001b[0m",
      "\u001b[0;31mImportError\u001b[0m: cannot import name 'SIMPLE'"
     ]
    }
   ],
   "source": [
    "from models import SIMPLE"
   ]
  },
  {
   "cell_type": "code",
   "execution_count": null,
   "metadata": {},
   "outputs": [],
   "source": []
  }
 ],
 "metadata": {
  "kernelspec": {
   "display_name": "Python 3",
   "language": "python",
   "name": "python3"
  },
  "language_info": {
   "codemirror_mode": {
    "name": "ipython",
    "version": 3
   },
   "file_extension": ".py",
   "mimetype": "text/x-python",
   "name": "python",
   "nbconvert_exporter": "python",
   "pygments_lexer": "ipython3",
   "version": "3.6.3"
  }
 },
 "nbformat": 4,
 "nbformat_minor": 2
}
