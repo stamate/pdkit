{
 "cells": [
  {
   "cell_type": "markdown",
   "metadata": {},
   "source": [
    "# UPDRS"
   ]
  },
  {
   "cell_type": "markdown",
   "metadata": {},
   "source": [
    "### Calculate the UPDRS score for a given testResultSet."
   ]
  },
  {
   "cell_type": "code",
   "execution_count": 1,
   "metadata": {},
   "outputs": [
    {
     "name": "stderr",
     "output_type": "stream",
     "text": [
      "/Users/juansaez/Code/test_pdkit/lib/python3.6/site-packages/statsmodels/compat/pandas.py:56: FutureWarning: The pandas.core.datetools module is deprecated and will be removed in a future version. Please use the pandas.tseries module instead.\n",
      "  from pandas.core import datetools\n"
     ]
    }
   ],
   "source": [
    "import pdkit\n",
    "\n",
    "import pandas as pd"
   ]
  },
  {
   "cell_type": "code",
   "execution_count": 2,
   "metadata": {},
   "outputs": [],
   "source": [
    "# we pass the data_frame stored in a file.\n",
    "# data_frame is testResultSet\n",
    "updrs = pdkit.UPDRS(data_frame_file_path='./data/cussp_data.csv')"
   ]
  },
  {
   "cell_type": "code",
   "execution_count": 3,
   "metadata": {},
   "outputs": [
    {
     "data": {
      "text/html": [
       "<div>\n",
       "<style scoped>\n",
       "    .dataframe tbody tr th:only-of-type {\n",
       "        vertical-align: middle;\n",
       "    }\n",
       "\n",
       "    .dataframe tbody tr th {\n",
       "        vertical-align: top;\n",
       "    }\n",
       "\n",
       "    .dataframe thead th {\n",
       "        text-align: right;\n",
       "    }\n",
       "</style>\n",
       "<table border=\"1\" class=\"dataframe\">\n",
       "  <thead>\n",
       "    <tr style=\"text-align: right;\">\n",
       "      <th></th>\n",
       "      <th>id</th>\n",
       "      <th>LA-LL-amplitude_by_fft</th>\n",
       "      <th>LA-LL-frequency_by_fft</th>\n",
       "      <th>LA-LL-amplitude_by_welch</th>\n",
       "      <th>LA-LL-frequency_by_welch</th>\n",
       "      <th>LA-LL-bradykinesia_amplitude_by_fft</th>\n",
       "      <th>LA-LL-bradykinesia_frequency_by_fft</th>\n",
       "      <th>LA-LL-bradykinesia_amplitude_by_welch</th>\n",
       "      <th>LA-LL-bradykinesia_frequency_by_welch</th>\n",
       "      <th>LA-LL-magnitude_approximate_entropy</th>\n",
       "      <th>...</th>\n",
       "      <th>OT-LH-kinesia_scores</th>\n",
       "      <th>OT-LH-akinesia_times</th>\n",
       "      <th>OT-LH-dysmetria_score</th>\n",
       "      <th>TT-RH-frequency</th>\n",
       "      <th>TT-RH-mean_moving_time</th>\n",
       "      <th>TT-RH-incoordination_score</th>\n",
       "      <th>TT-RH-mean_alnt_target_distance</th>\n",
       "      <th>TT-RH-kinesia_scores</th>\n",
       "      <th>TT-RH-akinesia_times</th>\n",
       "      <th>TT-RH-dysmetria_score</th>\n",
       "    </tr>\n",
       "  </thead>\n",
       "  <tbody>\n",
       "    <tr>\n",
       "      <th>0</th>\n",
       "      <td>2458</td>\n",
       "      <td>0.906875</td>\n",
       "      <td>4.6875</td>\n",
       "      <td>1.853757</td>\n",
       "      <td>2.34375</td>\n",
       "      <td>0.906875</td>\n",
       "      <td>4.6875</td>\n",
       "      <td>1.854758</td>\n",
       "      <td>2.34375</td>\n",
       "      <td>0.367323</td>\n",
       "      <td>...</td>\n",
       "      <td>248</td>\n",
       "      <td>0.101778</td>\n",
       "      <td>56.877978</td>\n",
       "      <td>1.969118</td>\n",
       "      <td>323.882353</td>\n",
       "      <td>0.929616</td>\n",
       "      <td>632.23278</td>\n",
       "      <td>120</td>\n",
       "      <td>0.186658</td>\n",
       "      <td>63.150387</td>\n",
       "    </tr>\n",
       "  </tbody>\n",
       "</table>\n",
       "<p>1 rows × 437 columns</p>\n",
       "</div>"
      ],
      "text/plain": [
       "     id  LA-LL-amplitude_by_fft  LA-LL-frequency_by_fft  \\\n",
       "0  2458                0.906875                  4.6875   \n",
       "\n",
       "   LA-LL-amplitude_by_welch  LA-LL-frequency_by_welch  \\\n",
       "0                  1.853757                   2.34375   \n",
       "\n",
       "   LA-LL-bradykinesia_amplitude_by_fft  LA-LL-bradykinesia_frequency_by_fft  \\\n",
       "0                             0.906875                               4.6875   \n",
       "\n",
       "   LA-LL-bradykinesia_amplitude_by_welch  \\\n",
       "0                               1.854758   \n",
       "\n",
       "   LA-LL-bradykinesia_frequency_by_welch  LA-LL-magnitude_approximate_entropy  \\\n",
       "0                                2.34375                             0.367323   \n",
       "\n",
       "           ...            OT-LH-kinesia_scores  OT-LH-akinesia_times  \\\n",
       "0          ...                             248              0.101778   \n",
       "\n",
       "   OT-LH-dysmetria_score  TT-RH-frequency  TT-RH-mean_moving_time  \\\n",
       "0              56.877978         1.969118              323.882353   \n",
       "\n",
       "   TT-RH-incoordination_score  TT-RH-mean_alnt_target_distance  \\\n",
       "0                    0.929616                        632.23278   \n",
       "\n",
       "   TT-RH-kinesia_scores  TT-RH-akinesia_times  TT-RH-dysmetria_score  \n",
       "0                   120              0.186658              63.150387  \n",
       "\n",
       "[1 rows x 437 columns]"
      ]
     },
     "execution_count": 3,
     "metadata": {},
     "output_type": "execute_result"
    }
   ],
   "source": [
    "# Example how to get scores for a new test (point)\n",
    "dataframe = pd.read_csv('./data/cussp_dataframe.csv').fillna(0)\n",
    "point = dataframe.loc[[0]]\n",
    "point"
   ]
  },
  {
   "cell_type": "code",
   "execution_count": 4,
   "metadata": {},
   "outputs": [
    {
     "data": {
      "text/plain": [
       "array([0, 0, 0, 0, 0, 0, 1, 1, 1, 1, 0, 0, 1, 1, 0, 2])"
      ]
     },
     "execution_count": 4,
     "metadata": {},
     "output_type": "execute_result"
    }
   ],
   "source": [
    "# Get the UPDRS for that test (point)\n",
    "updrs.score(point)"
   ]
  },
  {
   "cell_type": "code",
   "execution_count": 7,
   "metadata": {},
   "outputs": [
    {
     "data": {
      "text/plain": [
       "'[0 0 0 0 0 0 1 1 1 1 0 0 1 1 0 2]'"
      ]
     },
     "execution_count": 7,
     "metadata": {},
     "output_type": "execute_result"
    }
   ],
   "source": [
    "# print in string format\n",
    "updrs.score(point, output_format='string')"
   ]
  },
  {
   "cell_type": "code",
   "execution_count": null,
   "metadata": {},
   "outputs": [],
   "source": []
  }
 ],
 "metadata": {
  "kernelspec": {
   "display_name": "Python 3",
   "language": "python",
   "name": "python3"
  },
  "language_info": {
   "codemirror_mode": {
    "name": "ipython",
    "version": 3
   },
   "file_extension": ".py",
   "mimetype": "text/x-python",
   "name": "python",
   "nbconvert_exporter": "python",
   "pygments_lexer": "ipython3",
   "version": "3.6.3"
  }
 },
 "nbformat": 4,
 "nbformat_minor": 2
}
